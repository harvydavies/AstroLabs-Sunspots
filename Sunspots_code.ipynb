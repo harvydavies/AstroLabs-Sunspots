{
  "nbformat": 4,
  "nbformat_minor": 0,
  "metadata": {
    "colab": {
      "provenance": [],
      "authorship_tag": "ABX9TyMHil3gY6wB6otFiFx4fzMV",
      "include_colab_link": true
    },
    "kernelspec": {
      "name": "python3",
      "display_name": "Python 3"
    },
    "language_info": {
      "name": "python"
    }
  },
  "cells": [
    {
      "cell_type": "markdown",
      "metadata": {
        "id": "view-in-github",
        "colab_type": "text"
      },
      "source": [
        "<a href=\"https://colab.research.google.com/github/harvydavies/AstroLabs-Sunspots/blob/main/Sunspots_code.ipynb\" target=\"_parent\"><img src=\"https://colab.research.google.com/assets/colab-badge.svg\" alt=\"Open In Colab\"/></a>"
      ]
    },
    {
      "cell_type": "code",
      "execution_count": null,
      "metadata": {
        "id": "w4lHP73K461a"
      },
      "outputs": [],
      "source": [
        "! pip install -q uncertainties"
      ]
    },
    {
      "cell_type": "code",
      "source": [
        "import numpy as np\n",
        "import matplotlib.pyplot as plt\n",
        "import uncertainties.unumpy as unp\n",
        "from uncertainties import ufloat"
      ],
      "metadata": {
        "id": "NfDHOevc5Qgo"
      },
      "execution_count": null,
      "outputs": []
    },
    {
      "cell_type": "code",
      "source": [
        "# the file name\n",
        "fname1 = '/content/m13v-calibrated-80-stars-data'\n",
        "# I define the data type for the columns I want (here, f is for floating point)\n",
        "dtype1 = np.dtype([('Vmag', 'f8'), ('Vmagerr', 'f8')])\n",
        "# the magnitudes and their errors are in columns 3 and 4\n",
        "Vmag,Vmagerr=np.loadtxt(fname1,dtype=dtype1,usecols=(3,4),unpack=True)\n",
        "print(Vmagerr)"
      ],
      "metadata": {
        "id": "2SFDYopx5TI3"
      },
      "execution_count": null,
      "outputs": []
    },
    {
      "cell_type": "code",
      "source": [
        "# the file name\n",
        "fname1 = '/content/m13b-calibrated-80-stars-data'\n",
        "# I define the data type for the columns I want (here, f is for floating point)\n",
        "dtype1 = np.dtype([('Bmag', 'f8'), ('Bmagerr', 'f8')])\n",
        "# the magnitudes and their errors are in columns 3 and 4\n",
        "Bmag,Bmagerr=np.loadtxt(fname1,dtype=dtype1,usecols=(3,4),unpack=True)\n",
        "print(Bmagerr)"
      ],
      "metadata": {
        "id": "hWUMHsb95fcl"
      },
      "execution_count": null,
      "outputs": []
    },
    {
      "cell_type": "code",
      "source": [
        "# Create arrays with uncertainties\n",
        "Vtot = unp.uarray(Vmag,Vmagerr)\n",
        "Btot = unp.uarray(Bmag,Bmagerr)\n",
        "\n",
        "BVtot = Btot - Vtot\n",
        "\n",
        "print(BVtot)"
      ],
      "metadata": {
        "id": "rpSno0jU5gQZ"
      },
      "execution_count": null,
      "outputs": []
    },
    {
      "cell_type": "code",
      "source": [
        "# Extract array of just the values\n",
        "BVmag = np.array([val.nominal_value for val in BVtot])\n",
        "\n",
        "# Display the values array\n",
        "print(\"Values array:\", BVmag)\n",
        "\n",
        "# Extract array of just the errors\n",
        "BVerr = np.array([val.std_dev for val in BVtot])\n",
        "\n",
        "# Display the errors array\n",
        "print(\"Errors array:\", BVerr)"
      ],
      "metadata": {
        "id": "pEdR-Iuv5knR"
      },
      "execution_count": null,
      "outputs": []
    },
    {
      "cell_type": "code",
      "source": [
        "plt.errorbar(BVmag,Vmag, xerr = BVerr, yerr = Vmagerr, linestyle='')\n",
        "\n",
        "# Setting the y-axis range from 24 to 12\n",
        "plt.ylim(22, 16)\n",
        "plt.xlim(-0.5, 1.5)\n",
        "\n",
        "# Adding labels and title\n",
        "plt.xlabel('(B-V)mag')\n",
        "plt.ylabel('Vmag')\n",
        "plt.title('H-R diagram')\n",
        "\n",
        "# Display the plot\n",
        "plt.show()"
      ],
      "metadata": {
        "id": "WNqbYKnW5nPl"
      },
      "execution_count": null,
      "outputs": []
    }
  ]
}